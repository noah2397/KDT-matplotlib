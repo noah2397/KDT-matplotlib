{
 "cells": [
  {
   "cell_type": "markdown",
   "metadata": {},
   "source": [
    "## [데이터 시각화 다듬기]\n",
    "-x,y축 레이블 지정\n",
    "-x,y축 눈금 설정\n",
    "-한글 폰트 설정\n",
    "-범례 설정"
   ]
  },
  {
   "cell_type": "code",
   "execution_count": 13,
   "metadata": {},
   "outputs": [],
   "source": [
    "import matplotlib.pyplot as plt # 그래프 관련 클래스 모듈\n",
    "import matplotlib as mpl # matplotlib 패키지 관련 모듈\n",
    "import matplotlib.font_manager as fm # 패키지 리소스 즉 자원 중 폰트 관련 모듈\n",
    "\n",
    "import pandas as pd"
   ]
  },
  {
   "cell_type": "markdown",
   "metadata": {},
   "source": [
    "- 그래프 제목 설정\n",
    "    * 한글 폰트 미지원 => 한글 폰트 설정\n",
    "    * 그래프에 제목 설정"
   ]
  },
  {
   "cell_type": "markdown",
   "metadata": {},
   "source": [
    "- 한글 폰트 설정"
   ]
  },
  {
   "cell_type": "code",
   "execution_count": 14,
   "metadata": {},
   "outputs": [],
   "source": [
    "font_path=r'c:\\WINDOWS\\Fonts\\H2MJRE.TTF'\n",
    "imoji_path=r'C:\\Users\\mathn\\Desktop\\Noto_Color_Emoji\\NotoColorEmoji-Regular.ttf'"
   ]
  },
  {
   "cell_type": "code",
   "execution_count": 15,
   "metadata": {},
   "outputs": [],
   "source": [
    "#matplotlib 패키지에 한글 폰트 설정\n",
    "# fm.FontProperties(fname=font_path) => 얘 자체가 fonProperty라는 객체가 된다\n",
    "myFont=fm.FontProperties(fname=font_path).get_name()\n",
    "imoji_Font=fm.FontProperties(fname=imoji_path).get_name()\n",
    "mpl.rc('font',family=[myFont,imoji_Font])"
   ]
  },
  {
   "cell_type": "code",
   "execution_count": 16,
   "metadata": {},
   "outputs": [
    {
     "data": {
      "text/plain": [
       "Text(0.5, 1.0, '[테스트]')"
      ]
     },
     "execution_count": 16,
     "metadata": {},
     "output_type": "execute_result"
    },
    {
     "name": "stderr",
     "output_type": "stream",
     "text": [
      "findfont: Font family 'Noto Color Emoji' not found.\n",
      "findfont: Font family 'Noto Color Emoji' not found.\n",
      "findfont: Font family 'Noto Color Emoji' not found.\n",
      "findfont: Font family 'Noto Color Emoji' not found.\n",
      "findfont: Font family 'Noto Color Emoji' not found.\n",
      "findfont: Font family 'Noto Color Emoji' not found.\n",
      "findfont: Font family 'Noto Color Emoji' not found.\n",
      "findfont: Font family 'Noto Color Emoji' not found.\n",
      "findfont: Font family 'Noto Color Emoji' not found.\n",
      "findfont: Font family 'Noto Color Emoji' not found.\n",
      "findfont: Font family 'Noto Color Emoji' not found.\n",
      "findfont: Font family 'Noto Color Emoji' not found.\n",
      "findfont: Font family 'Noto Color Emoji' not found.\n",
      "findfont: Font family 'Noto Color Emoji' not found.\n",
      "findfont: Font family 'Noto Color Emoji' not found.\n",
      "findfont: Font family 'Noto Color Emoji' not found.\n",
      "findfont: Font family 'Noto Color Emoji' not found.\n",
      "findfont: Font family 'Noto Color Emoji' not found.\n",
      "findfont: Font family 'Noto Color Emoji' not found.\n",
      "findfont: Font family 'Noto Color Emoji' not found.\n",
      "findfont: Font family 'Noto Color Emoji' not found.\n",
      "findfont: Font family 'Noto Color Emoji' not found.\n",
      "findfont: Font family 'Noto Color Emoji' not found.\n",
      "findfont: Font family 'Noto Color Emoji' not found.\n",
      "findfont: Font family 'Noto Color Emoji' not found.\n",
      "findfont: Font family 'Noto Color Emoji' not found.\n"
     ]
    },
    {
     "name": "stderr",
     "output_type": "stream",
     "text": [
      "findfont: Font family 'Noto Color Emoji' not found.\n",
      "findfont: Font family 'Noto Color Emoji' not found.\n",
      "findfont: Font family 'Noto Color Emoji' not found.\n",
      "findfont: Font family 'Noto Color Emoji' not found.\n",
      "findfont: Font family 'Noto Color Emoji' not found.\n",
      "findfont: Font family 'Noto Color Emoji' not found.\n",
      "findfont: Font family 'Noto Color Emoji' not found.\n",
      "findfont: Font family 'Noto Color Emoji' not found.\n",
      "findfont: Font family 'Noto Color Emoji' not found.\n",
      "findfont: Font family 'Noto Color Emoji' not found.\n",
      "findfont: Font family 'Noto Color Emoji' not found.\n",
      "findfont: Font family 'Noto Color Emoji' not found.\n",
      "findfont: Font family 'Noto Color Emoji' not found.\n",
      "findfont: Font family 'Noto Color Emoji' not found.\n",
      "findfont: Font family 'Noto Color Emoji' not found.\n",
      "findfont: Font family 'Noto Color Emoji' not found.\n",
      "findfont: Font family 'Noto Color Emoji' not found.\n",
      "findfont: Font family 'Noto Color Emoji' not found.\n",
      "findfont: Font family 'Noto Color Emoji' not found.\n",
      "findfont: Font family 'Noto Color Emoji' not found.\n",
      "findfont: Font family 'Noto Color Emoji' not found.\n",
      "findfont: Font family 'Noto Color Emoji' not found.\n",
      "findfont: Font family 'Noto Color Emoji' not found.\n",
      "findfont: Font family 'Noto Color Emoji' not found.\n",
      "findfont: Font family 'Noto Color Emoji' not found.\n",
      "findfont: Font family 'Noto Color Emoji' not found.\n"
     ]
    },
    {
     "data": {
      "image/png": "[encoded data removed]",
      "text/plain": [
       "<Figure size 640x480 with 1 Axes>"
      ]
     },
     "metadata": {},
     "output_type": "display_data"
    }
   ],
   "source": [
    "x=[i for i in range(1,11)]\n",
    "y=[i**2 for i in range(1,11)]\n",
    "y2=[i**3 for i in range(1,11)]\n",
    "plt.plot(x,y)\n",
    "plt.title(\"[테스트]\")"
   ]
  },
  {
   "cell_type": "markdown",
   "metadata": {},
   "source": [
    "### x,y 축 레이블 설정 및 눈금 설정\n",
    "    - x,y 축 데이터에 대한 설명 => plt.xlabel(), plt.ylabel()\n",
    "    - 눈금 간격, 출력 형태 설정 => plt.xticks(), plt.yticks(), plt.tick_params()"
   ]
  },
  {
   "cell_type": "code",
   "execution_count": 17,
   "metadata": {},
   "outputs": [
    {
     "data": {
      "text/plain": [
       "Text(0, 1, '값의 제곱')"
      ]
     },
     "execution_count": 17,
     "metadata": {},
     "output_type": "execute_result"
    },
    {
     "name": "stderr",
     "output_type": "stream",
     "text": [
      "findfont: Font family 'Noto Color Emoji' not found.\n",
      "findfont: Font family 'Noto Color Emoji' not found.\n",
      "findfont: Font family 'Noto Color Emoji' not found.\n",
      "findfont: Font family 'Noto Color Emoji' not found.\n",
      "findfont: Font family 'Noto Color Emoji' not found.\n",
      "findfont: Font family 'Noto Color Emoji' not found.\n",
      "findfont: Font family 'Noto Color Emoji' not found.\n",
      "findfont: Font family 'Noto Color Emoji' not found.\n",
      "findfont: Font family 'Noto Color Emoji' not found.\n",
      "findfont: Font family 'Noto Color Emoji' not found.\n",
      "findfont: Font family 'Noto Color Emoji' not found.\n",
      "findfont: Font family 'Noto Color Emoji' not found.\n",
      "findfont: Font family 'Noto Color Emoji' not found.\n",
      "findfont: Font family 'Noto Color Emoji' not found.\n",
      "findfont: Font family 'Noto Color Emoji' not found.\n",
      "findfont: Font family 'Noto Color Emoji' not found.\n",
      "findfont: Font family 'Noto Color Emoji' not found.\n",
      "findfont: Font family 'Noto Color Emoji' not found.\n",
      "findfont: Font family 'Noto Color Emoji' not found.\n",
      "findfont: Font family 'Noto Color Emoji' not found.\n",
      "findfont: Font family 'Noto Color Emoji' not found.\n",
      "findfont: Font family 'Noto Color Emoji' not found.\n",
      "findfont: Font family 'Noto Color Emoji' not found.\n",
      "findfont: Font family 'Noto Color Emoji' not found.\n",
      "findfont: Font family 'Noto Color Emoji' not found.\n",
      "findfont: Font family 'Noto Color Emoji' not found.\n",
      "findfont: Font family 'Noto Color Emoji' not found.\n",
      "findfont: Font family 'Noto Color Emoji' not found.\n",
      "findfont: Font family 'Noto Color Emoji' not found.\n",
      "findfont: Font family 'Noto Color Emoji' not found.\n",
      "findfont: Font family 'Noto Color Emoji' not found.\n",
      "findfont: Font family 'Noto Color Emoji' not found.\n",
      "findfont: Font family 'Noto Color Emoji' not found.\n",
      "findfont: Font family 'Noto Color Emoji' not found.\n",
      "findfont: Font family 'Noto Color Emoji' not found.\n",
      "findfont: Font family 'Noto Color Emoji' not found.\n",
      "findfont: Font family 'Noto Color Emoji' not found.\n",
      "findfont: Font family 'Noto Color Emoji' not found.\n",
      "findfont: Font family 'Noto Color Emoji' not found.\n",
      "findfont: Font family 'Noto Color Emoji' not found.\n",
      "findfont: Font family 'Noto Color Emoji' not found.\n",
      "findfont: Font family 'Noto Color Emoji' not found.\n",
      "findfont: Font family 'Noto Color Emoji' not found.\n",
      "findfont: Font family 'Noto Color Emoji' not found.\n",
      "findfont: Font family 'Noto Color Emoji' not found.\n",
      "findfont: Font family 'Noto Color Emoji' not found.\n",
      "findfont: Font family 'Noto Color Emoji' not found.\n",
      "findfont: Font family 'Noto Color Emoji' not found.\n",
      "findfont: Font family 'Noto Color Emoji' not found.\n",
      "findfont: Font family 'Noto Color Emoji' not found.\n",
      "findfont: Font family 'Noto Color Emoji' not found.\n",
      "findfont: Font family 'Noto Color Emoji' not found.\n",
      "findfont: Font family 'Noto Color Emoji' not found.\n",
      "findfont: Font family 'Noto Color Emoji' not found.\n",
      "findfont: Font family 'Noto Color Emoji' not found.\n",
      "findfont: Font family 'Noto Color Emoji' not found.\n",
      "findfont: Font family 'Noto Color Emoji' not found.\n",
      "findfont: Font family 'Noto Color Emoji' not found.\n",
      "findfont: Font family 'Noto Color Emoji' not found.\n",
      "findfont: Font family 'Noto Color Emoji' not found.\n"
     ]
    },
    {
     "data": {
      "image/png": "[encoded data removed]",
      "text/plain": [
       "<Figure size 640x480 with 1 Axes>"
      ]
     },
     "metadata": {},
     "output_type": "display_data"
    }
   ],
   "source": [
    "# 그래프 그리기\n",
    "plotList=plt.plot(y,'ro--',y2,'g-')\n",
    "plt.title(\"[테스트]\")\n",
    "\n",
    "# x,y 축 레이블\n",
    "plt.xlabel(\"값\", loc=\"right\", rotation='vertical')\n",
    "plt.ylabel(\"값의 제곱\", loc=\"top\",fontsize=\"xx-large\", color='blue', rotation=45)"
   ]
  },
  {
   "cell_type": "code",
   "execution_count": 18,
   "metadata": {},
   "outputs": [
    {
     "data": {
      "text/plain": [
       "([<matplotlib.axis.XTick at 0x1ac2dcc3760>,\n",
       "  <matplotlib.axis.XTick at 0x1ac2dcc3730>,\n",
       "  <matplotlib.axis.XTick at 0x1ac2dcc3220>,\n",
       "  <matplotlib.axis.XTick at 0x1ac2db6ecd0>,\n",
       "  <matplotlib.axis.XTick at 0x1ac2db777c0>],\n",
       " [Text(11, 0, 'A'),\n",
       "  Text(12, 0, 'B'),\n",
       "  Text(13, 0, 'C'),\n",
       "  Text(14, 0, 'D'),\n",
       "  Text(15, 0, 'E')])"
      ]
     },
     "execution_count": 18,
     "metadata": {},
     "output_type": "execute_result"
    },
    {
     "name": "stderr",
     "output_type": "stream",
     "text": [
      "findfont: Font family 'Noto Color Emoji' not found.\n"
     ]
    },
    {
     "name": "stderr",
     "output_type": "stream",
     "text": [
      "findfont: Font family 'Noto Color Emoji' not found.\n",
      "findfont: Font family 'Noto Color Emoji' not found.\n",
      "findfont: Font family 'Noto Color Emoji' not found.\n",
      "findfont: Font family 'Noto Color Emoji' not found.\n",
      "findfont: Font family 'Noto Color Emoji' not found.\n",
      "findfont: Font family 'Noto Color Emoji' not found.\n",
      "findfont: Font family 'Noto Color Emoji' not found.\n",
      "findfont: Font family 'Noto Color Emoji' not found.\n",
      "findfont: Font family 'Noto Color Emoji' not found.\n",
      "findfont: Font family 'Noto Color Emoji' not found.\n",
      "findfont: Font family 'Noto Color Emoji' not found.\n",
      "findfont: Font family 'Noto Color Emoji' not found.\n",
      "findfont: Font family 'Noto Color Emoji' not found.\n",
      "findfont: Font family 'Noto Color Emoji' not found.\n",
      "findfont: Font family 'Noto Color Emoji' not found.\n",
      "findfont: Font family 'Noto Color Emoji' not found.\n",
      "findfont: Font family 'Noto Color Emoji' not found.\n",
      "findfont: Font family 'Noto Color Emoji' not found.\n",
      "findfont: Font family 'Noto Color Emoji' not found.\n",
      "findfont: Font family 'Noto Color Emoji' not found.\n",
      "findfont: Font family 'Noto Color Emoji' not found.\n",
      "findfont: Font family 'Noto Color Emoji' not found.\n",
      "findfont: Font family 'Noto Color Emoji' not found.\n",
      "findfont: Font family 'Noto Color Emoji' not found.\n",
      "findfont: Font family 'Noto Color Emoji' not found.\n",
      "findfont: Font family 'Noto Color Emoji' not found.\n",
      "findfont: Font family 'Noto Color Emoji' not found.\n",
      "findfont: Font family 'Noto Color Emoji' not found.\n",
      "findfont: Font family 'Noto Color Emoji' not found.\n",
      "findfont: Font family 'Noto Color Emoji' not found.\n",
      "findfont: Font family 'Noto Color Emoji' not found.\n",
      "findfont: Font family 'Noto Color Emoji' not found.\n",
      "findfont: Font family 'Noto Color Emoji' not found.\n",
      "findfont: Font family 'Noto Color Emoji' not found.\n",
      "findfont: Font family 'Noto Color Emoji' not found.\n",
      "findfont: Font family 'Noto Color Emoji' not found.\n",
      "findfont: Font family 'Noto Color Emoji' not found.\n",
      "findfont: Font family 'Noto Color Emoji' not found.\n",
      "findfont: Font family 'Noto Color Emoji' not found.\n",
      "findfont: Font family 'Noto Color Emoji' not found.\n",
      "findfont: Font family 'Noto Color Emoji' not found.\n",
      "findfont: Font family 'Noto Color Emoji' not found.\n",
      "findfont: Font family 'Noto Color Emoji' not found.\n",
      "findfont: Font family 'Noto Color Emoji' not found.\n",
      "findfont: Font family 'Noto Color Emoji' not found.\n"
     ]
    },
    {
     "data": {
      "image/png": "[encoded data removed]",
      "text/plain": [
       "<Figure size 640x480 with 1 Axes>"
      ]
     },
     "metadata": {},
     "output_type": "display_data"
    }
   ],
   "source": [
    "# x,y 축 눈금 설정\n",
    "plt.xticks(ticks=[11,12,13,14,15],labels=['A','B','C','D','E'], color='red', backgroundcolor='black') # 눈금설정"
   ]
  },
  {
   "cell_type": "markdown",
   "metadata": {},
   "source": [
    "# 범례 설정\n",
    "- 여러개의 그래프를 표시하는 경우 그래프별 식별을 위해서 사용"
   ]
  },
  {
   "cell_type": "code",
   "execution_count": 19,
   "metadata": {},
   "outputs": [
    {
     "data": {
      "text/plain": [
       "<matplotlib.legend.Legend at 0x1ac2dbb3850>"
      ]
     },
     "execution_count": 19,
     "metadata": {},
     "output_type": "execute_result"
    },
    {
     "name": "stderr",
     "output_type": "stream",
     "text": [
      "findfont: Font family 'Noto Color Emoji' not found.\n",
      "findfont: Font family 'Noto Color Emoji' not found.\n",
      "findfont: Font family 'Noto Color Emoji' not found.\n",
      "findfont: Font family 'Noto Color Emoji' not found.\n",
      "findfont: Font family 'Noto Color Emoji' not found.\n",
      "findfont: Font family 'Noto Color Emoji' not found.\n",
      "findfont: Font family 'Noto Color Emoji' not found.\n",
      "findfont: Font family 'Noto Color Emoji' not found.\n",
      "findfont: Font family 'Noto Color Emoji' not found.\n",
      "findfont: Font family 'Noto Color Emoji' not found.\n",
      "findfont: Font family 'Noto Color Emoji' not found.\n",
      "findfont: Font family 'Noto Color Emoji' not found.\n",
      "findfont: Font family 'Noto Color Emoji' not found.\n",
      "findfont: Font family 'Noto Color Emoji' not found.\n",
      "findfont: Font family 'Noto Color Emoji' not found.\n",
      "findfont: Font family 'Noto Color Emoji' not found.\n",
      "findfont: Font family 'Noto Color Emoji' not found.\n",
      "findfont: Font family 'Noto Color Emoji' not found.\n",
      "findfont: Font family 'Noto Color Emoji' not found.\n",
      "findfont: Font family 'Noto Color Emoji' not found.\n",
      "findfont: Font family 'Noto Color Emoji' not found.\n",
      "findfont: Font family 'Noto Color Emoji' not found.\n",
      "findfont: Font family 'Noto Color Emoji' not found.\n",
      "findfont: Font family 'Noto Color Emoji' not found.\n",
      "findfont: Font family 'Noto Color Emoji' not found.\n",
      "findfont: Font family 'Noto Color Emoji' not found.\n",
      "findfont: Font family 'Noto Color Emoji' not found.\n",
      "findfont: Font family 'Noto Color Emoji' not found.\n",
      "findfont: Font family 'Noto Color Emoji' not found.\n",
      "findfont: Font family 'Noto Color Emoji' not found.\n",
      "findfont: Font family 'Noto Color Emoji' not found.\n",
      "findfont: Font family 'Noto Color Emoji' not found.\n",
      "findfont: Font family 'Noto Color Emoji' not found.\n",
      "findfont: Font family 'Noto Color Emoji' not found.\n",
      "findfont: Font family 'Noto Color Emoji' not found.\n",
      "findfont: Font family 'Noto Color Emoji' not found.\n",
      "findfont: Font family 'Noto Color Emoji' not found.\n",
      "findfont: Font family 'Noto Color Emoji' not found.\n",
      "findfont: Font family 'Noto Color Emoji' not found.\n",
      "findfont: Font family 'Noto Color Emoji' not found.\n",
      "findfont: Font family 'Noto Color Emoji' not found.\n",
      "findfont: Font family 'Noto Color Emoji' not found.\n",
      "findfont: Font family 'Noto Color Emoji' not found.\n",
      "findfont: Font family 'Noto Color Emoji' not found.\n",
      "findfont: Font family 'Noto Color Emoji' not found.\n",
      "findfont: Font family 'Noto Color Emoji' not found.\n",
      "findfont: Font family 'Noto Color Emoji' not found.\n",
      "findfont: Font family 'Noto Color Emoji' not found.\n",
      "findfont: Font family 'Noto Color Emoji' not found.\n",
      "findfont: Font family 'Noto Color Emoji' not found.\n",
      "findfont: Font family 'Noto Color Emoji' not found.\n",
      "findfont: Font family 'Noto Color Emoji' not found.\n",
      "findfont: Font family 'Noto Color Emoji' not found.\n",
      "findfont: Font family 'Noto Color Emoji' not found.\n",
      "findfont: Font family 'Noto Color Emoji' not found.\n",
      "findfont: Font family 'Noto Color Emoji' not found.\n",
      "findfont: Font family 'Noto Color Emoji' not found.\n",
      "findfont: Font family 'Noto Color Emoji' not found.\n",
      "findfont: Font family 'Noto Color Emoji' not found.\n",
      "findfont: Font family 'Noto Color Emoji' not found.\n",
      "findfont: Font family 'Noto Color Emoji' not found.\n",
      "findfont: Font family 'Noto Color Emoji' not found.\n",
      "findfont: Font family 'Noto Color Emoji' not found.\n",
      "findfont: Font family 'Noto Color Emoji' not found.\n",
      "findfont: Font family 'Noto Color Emoji' not found.\n",
      "findfont: Font family 'Noto Color Emoji' not found.\n",
      "findfont: Font family 'Noto Color Emoji' not found.\n",
      "findfont: Font family 'Noto Color Emoji' not found.\n",
      "findfont: Font family 'Noto Color Emoji' not found.\n",
      "findfont: Font family 'Noto Color Emoji' not found.\n",
      "findfont: Font family 'Noto Color Emoji' not found.\n",
      "findfont: Font family 'Noto Color Emoji' not found.\n",
      "findfont: Font family 'Noto Color Emoji' not found.\n",
      "findfont: Font family 'Noto Color Emoji' not found.\n",
      "findfont: Font family 'Noto Color Emoji' not found.\n",
      "findfont: Font family 'Noto Color Emoji' not found.\n",
      "findfont: Font family 'Noto Color Emoji' not found.\n",
      "findfont: Font family 'Noto Color Emoji' not found.\n",
      "findfont: Font family 'Noto Color Emoji' not found.\n",
      "findfont: Font family 'Noto Color Emoji' not found.\n",
      "findfont: Font family 'Noto Color Emoji' not found.\n",
      "findfont: Font family 'Noto Color Emoji' not found.\n"
     ]
    },
    {
     "data": {
      "image/png": "[encoded data removed]",
      "text/plain": [
       "<Figure size 640x480 with 1 Axes>"
      ]
     },
     "metadata": {},
     "output_type": "display_data"
    }
   ],
   "source": [
    "plt.legend(handles=plotList, labels=['y=x^2', 'y=x^3'], loc='center right')"
   ]
  },
  {
   "cell_type": "code",
   "execution_count": 20,
   "metadata": {},
   "outputs": [
    {
     "data": {
      "text/plain": [
       "<matplotlib.legend.Legend at 0x1ac2dc2c100>"
      ]
     },
     "execution_count": 20,
     "metadata": {},
     "output_type": "execute_result"
    },
    {
     "name": "stderr",
     "output_type": "stream",
     "text": [
      "findfont: Font family 'Noto Color Emoji' not found.\n",
      "findfont: Font family 'Noto Color Emoji' not found.\n"
     ]
    },
    {
     "name": "stderr",
     "output_type": "stream",
     "text": [
      "findfont: Font family 'Noto Color Emoji' not found.\n",
      "findfont: Font family 'Noto Color Emoji' not found.\n",
      "findfont: Font family 'Noto Color Emoji' not found.\n",
      "findfont: Font family 'Noto Color Emoji' not found.\n",
      "findfont: Font family 'Noto Color Emoji' not found.\n",
      "findfont: Font family 'Noto Color Emoji' not found.\n",
      "findfont: Font family 'Noto Color Emoji' not found.\n",
      "findfont: Font family 'Noto Color Emoji' not found.\n",
      "findfont: Font family 'Noto Color Emoji' not found.\n",
      "findfont: Font family 'Noto Color Emoji' not found.\n",
      "findfont: Font family 'Noto Color Emoji' not found.\n",
      "findfont: Font family 'Noto Color Emoji' not found.\n",
      "findfont: Font family 'Noto Color Emoji' not found.\n",
      "findfont: Font family 'Noto Color Emoji' not found.\n",
      "findfont: Font family 'Noto Color Emoji' not found.\n",
      "findfont: Font family 'Noto Color Emoji' not found.\n",
      "findfont: Font family 'Noto Color Emoji' not found.\n",
      "findfont: Font family 'Noto Color Emoji' not found.\n",
      "findfont: Font family 'Noto Color Emoji' not found.\n",
      "findfont: Font family 'Noto Color Emoji' not found.\n",
      "findfont: Font family 'Noto Color Emoji' not found.\n",
      "findfont: Font family 'Noto Color Emoji' not found.\n",
      "findfont: Font family 'Noto Color Emoji' not found.\n",
      "findfont: Font family 'Noto Color Emoji' not found.\n",
      "findfont: Font family 'Noto Color Emoji' not found.\n",
      "findfont: Font family 'Noto Color Emoji' not found.\n",
      "findfont: Font family 'Noto Color Emoji' not found.\n",
      "findfont: Font family 'Noto Color Emoji' not found.\n",
      "findfont: Font family 'Noto Color Emoji' not found.\n",
      "findfont: Font family 'Noto Color Emoji' not found.\n",
      "findfont: Font family 'Noto Color Emoji' not found.\n",
      "findfont: Font family 'Noto Color Emoji' not found.\n",
      "findfont: Font family 'Noto Color Emoji' not found.\n",
      "findfont: Font family 'Noto Color Emoji' not found.\n",
      "findfont: Font family 'Noto Color Emoji' not found.\n",
      "findfont: Font family 'Noto Color Emoji' not found.\n"
     ]
    },
    {
     "data": {
      "image/png": "[encoded data removed]",
      "text/plain": [
       "<Figure size 640x480 with 1 Axes>"
      ]
     },
     "metadata": {},
     "output_type": "display_data"
    }
   ],
   "source": [
    "plt.legend(['y=x^2', 'y=x^3'])"
   ]
  },
  {
   "cell_type": "code",
   "execution_count": 21,
   "metadata": {},
   "outputs": [
    {
     "data": {
      "text/plain": [
       "Text(0.5, 0.4, 'ଘ(       )     (        )｡  (        )੭')"
      ]
     },
     "execution_count": 21,
     "metadata": {},
     "output_type": "execute_result"
    },
    {
     "name": "stderr",
     "output_type": "stream",
     "text": [
      "findfont: Font family 'Noto Color Emoji' not found.\n",
      "findfont: Font family 'Noto Color Emoji' not found.\n"
     ]
    },
    {
     "name": "stderr",
     "output_type": "stream",
     "text": [
      "findfont: Font family 'Noto Color Emoji' not found.\n",
      "findfont: Font family 'Noto Color Emoji' not found.\n",
      "findfont: Font family 'Noto Color Emoji' not found.\n",
      "findfont: Font family 'Noto Color Emoji' not found.\n",
      "findfont: Font family 'Noto Color Emoji' not found.\n",
      "findfont: Font family 'Noto Color Emoji' not found.\n",
      "findfont: Font family 'Noto Color Emoji' not found.\n",
      "findfont: Font family 'Noto Color Emoji' not found.\n",
      "findfont: Font family 'Noto Color Emoji' not found.\n",
      "findfont: Font family 'Noto Color Emoji' not found.\n",
      "findfont: Font family 'Noto Color Emoji' not found.\n",
      "findfont: Font family 'Noto Color Emoji' not found.\n",
      "findfont: Font family 'Noto Color Emoji' not found.\n",
      "findfont: Font family 'Noto Color Emoji' not found.\n",
      "findfont: Font family 'Noto Color Emoji' not found.\n",
      "findfont: Font family 'Noto Color Emoji' not found.\n",
      "findfont: Font family 'Noto Color Emoji' not found.\n",
      "findfont: Font family 'Noto Color Emoji' not found.\n",
      "findfont: Font family 'Noto Color Emoji' not found.\n",
      "findfont: Font family 'Noto Color Emoji' not found.\n",
      "findfont: Font family 'Noto Color Emoji' not found.\n",
      "findfont: Font family 'Noto Color Emoji' not found.\n",
      "findfont: Font family 'Noto Color Emoji' not found.\n",
      "findfont: Font family 'Noto Color Emoji' not found.\n",
      "findfont: Font family 'Noto Color Emoji' not found.\n",
      "findfont: Font family 'Noto Color Emoji' not found.\n",
      "findfont: Font family 'Noto Color Emoji' not found.\n",
      "findfont: Font family 'Noto Color Emoji' not found.\n",
      "findfont: Font family 'Noto Color Emoji' not found.\n",
      "findfont: Font family 'Noto Color Emoji' not found.\n",
      "findfont: Font family 'Noto Color Emoji' not found.\n",
      "findfont: Font family 'Noto Color Emoji' not found.\n",
      "findfont: Font family 'Noto Color Emoji' not found.\n",
      "findfont: Font family 'Noto Color Emoji' not found.\n",
      "findfont: Font family 'Noto Color Emoji' not found.\n",
      "findfont: Font family 'Noto Color Emoji' not found.\n",
      "findfont: Font family 'Noto Color Emoji' not found.\n",
      "findfont: Font family 'Noto Color Emoji' not found.\n",
      "findfont: Font family 'Noto Color Emoji' not found.\n",
      "findfont: Font family 'Noto Color Emoji' not found.\n",
      "findfont: Font family 'Noto Color Emoji' not found.\n",
      "findfont: Font family 'Noto Color Emoji' not found.\n",
      "findfont: Font family 'Noto Color Emoji' not found.\n",
      "findfont: Font family 'Noto Color Emoji' not found.\n",
      "findfont: Font family 'Noto Color Emoji' not found.\n",
      "findfont: Font family 'Noto Color Emoji' not found.\n",
      "findfont: Font family 'Noto Color Emoji' not found.\n",
      "findfont: Font family 'Noto Color Emoji' not found.\n"
     ]
    },
    {
     "data": {
      "image/png": "[encoded data removed]",
      "text/plain": [
       "<Figure size 640x480 with 1 Axes>"
      ]
     },
     "metadata": {},
     "output_type": "display_data"
    }
   ],
   "source": [
    "plt.text(0.5, 0.5, \".  /\\_/\\     (\\ __ /)     A__A\")\n",
    "plt.text(0.5, 0.45, \"\\ ( ˶•ᵕ•˶)人( •ᗜ• )人(•ﻌ •  ) /\")\n",
    "plt.text(0.5, 0.4, \"ଘ(       )     (        )｡  (        )੭\")\n"
   ]
  },
  {
   "cell_type": "markdown",
   "metadata": {},
   "source": [
    "### 텍스트 추가\n",
    "- 그래프 내에 위치 지정 후 텍스트 추가 설정 => plt.text"
   ]
  },
  {
   "cell_type": "code",
   "execution_count": 22,
   "metadata": {},
   "outputs": [
    {
     "name": "stderr",
     "output_type": "stream",
     "text": [
      "findfont: Font family 'Noto Color Emoji' not found.\n",
      "findfont: Font family 'Noto Color Emoji' not found.\n"
     ]
    },
    {
     "name": "stderr",
     "output_type": "stream",
     "text": [
      "findfont: Font family 'Noto Color Emoji' not found.\n",
      "findfont: Font family 'Noto Color Emoji' not found.\n",
      "findfont: Font family 'Noto Color Emoji' not found.\n",
      "findfont: Font family 'Noto Color Emoji' not found.\n",
      "findfont: Font family 'Noto Color Emoji' not found.\n",
      "findfont: Font family 'Noto Color Emoji' not found.\n",
      "findfont: Font family 'Noto Color Emoji' not found.\n",
      "findfont: Font family 'Noto Color Emoji' not found.\n",
      "findfont: Font family 'Noto Color Emoji' not found.\n",
      "findfont: Font family 'Noto Color Emoji' not found.\n",
      "findfont: Font family 'Noto Color Emoji' not found.\n",
      "findfont: Font family 'Noto Color Emoji' not found.\n",
      "findfont: Font family 'Noto Color Emoji' not found.\n",
      "findfont: Font family 'Noto Color Emoji' not found.\n",
      "findfont: Font family 'Noto Color Emoji' not found.\n",
      "findfont: Font family 'Noto Color Emoji' not found.\n",
      "findfont: Font family 'Noto Color Emoji' not found.\n",
      "findfont: Font family 'Noto Color Emoji' not found.\n",
      "findfont: Font family 'Noto Color Emoji' not found.\n",
      "findfont: Font family 'Noto Color Emoji' not found.\n",
      "findfont: Font family 'Noto Color Emoji' not found.\n",
      "findfont: Font family 'Noto Color Emoji' not found.\n",
      "findfont: Font family 'Noto Color Emoji' not found.\n",
      "findfont: Font family 'Noto Color Emoji' not found.\n",
      "findfont: Font family 'Noto Color Emoji' not found.\n",
      "findfont: Font family 'Noto Color Emoji' not found.\n",
      "findfont: Font family 'Noto Color Emoji' not found.\n",
      "findfont: Font family 'Noto Color Emoji' not found.\n",
      "findfont: Font family 'Noto Color Emoji' not found.\n",
      "findfont: Font family 'Noto Color Emoji' not found.\n",
      "findfont: Font family 'Noto Color Emoji' not found.\n",
      "findfont: Font family 'Noto Color Emoji' not found.\n",
      "findfont: Font family 'Noto Color Emoji' not found.\n",
      "findfont: Font family 'Noto Color Emoji' not found.\n",
      "findfont: Font family 'Noto Color Emoji' not found.\n",
      "findfont: Font family 'Noto Color Emoji' not found.\n",
      "findfont: Font family 'Noto Color Emoji' not found.\n",
      "findfont: Font family 'Noto Color Emoji' not found.\n",
      "findfont: Font family 'Noto Color Emoji' not found.\n",
      "findfont: Font family 'Noto Color Emoji' not found.\n",
      "findfont: Font family 'Noto Color Emoji' not found.\n",
      "findfont: Font family 'Noto Color Emoji' not found.\n",
      "findfont: Font family 'Noto Color Emoji' not found.\n",
      "findfont: Font family 'Noto Color Emoji' not found.\n",
      "findfont: Font family 'Noto Color Emoji' not found.\n",
      "findfont: Font family 'Noto Color Emoji' not found.\n",
      "findfont: Font family 'Noto Color Emoji' not found.\n",
      "findfont: Font family 'Noto Color Emoji' not found.\n",
      "findfont: Font family 'Noto Color Emoji' not found.\n",
      "findfont: Font family 'Noto Color Emoji' not found.\n",
      "findfont: Font family 'Noto Color Emoji' not found.\n",
      "findfont: Font family 'Noto Color Emoji' not found.\n"
     ]
    },
    {
     "data": {
      "image/png": "[encoded data removed]",
      "text/plain": [
       "<Figure size 640x480 with 1 Axes>"
      ]
     },
     "metadata": {},
     "output_type": "display_data"
    }
   ],
   "source": [
    "import matplotlib.pyplot as plt\n",
    "plt.rcParams['font.family'] = 'Noto Color Emoji'\n",
    "\n",
    "curby='''.　／￣￣ヽ￣￣＼\n",
    "　∠　　レ |　　⌒ヽ\n",
    "　　＼＿＿ノ丶　　)|\n",
    "　　 (_と＿_ノ⊂ニノ'''\n",
    "curby_list=curby.split(\"\\n\")\n",
    "for idx,value in enumerate(curby_list):\n",
    "    plt.text(0.5, 0.5-idx*0.05, value, backgroundcolor=\"black\", color=\"white\")"
   ]
  },
  {
   "cell_type": "code",
   "execution_count": 23,
   "metadata": {},
   "outputs": [
    {
     "data": {
      "text/plain": [
       "Text(0, 1, 'Happy New Year')"
      ]
     },
     "execution_count": 23,
     "metadata": {},
     "output_type": "execute_result"
    },
    {
     "name": "stderr",
     "output_type": "stream",
     "text": [
      "findfont: Font family 'Noto Color Emoji' not found.\n",
      "findfont: Font family 'Noto Color Emoji' not found.\n",
      "findfont: Font family 'Noto Color Emoji' not found.\n",
      "findfont: Font family 'Noto Color Emoji' not found.\n",
      "findfont: Font family 'Noto Color Emoji' not found.\n"
     ]
    },
    {
     "name": "stderr",
     "output_type": "stream",
     "text": [
      "findfont: Font family 'Noto Color Emoji' not found.\n",
      "findfont: Font family 'Noto Color Emoji' not found.\n",
      "findfont: Font family 'Noto Color Emoji' not found.\n",
      "findfont: Font family 'Noto Color Emoji' not found.\n",
      "findfont: Font family 'Noto Color Emoji' not found.\n",
      "findfont: Font family 'Noto Color Emoji' not found.\n",
      "findfont: Font family 'Noto Color Emoji' not found.\n",
      "findfont: Font family 'Noto Color Emoji' not found.\n",
      "findfont: Font family 'Noto Color Emoji' not found.\n",
      "findfont: Font family 'Noto Color Emoji' not found.\n",
      "findfont: Font family 'Noto Color Emoji' not found.\n",
      "findfont: Font family 'Noto Color Emoji' not found.\n",
      "findfont: Font family 'Noto Color Emoji' not found.\n",
      "findfont: Font family 'Noto Color Emoji' not found.\n",
      "findfont: Font family 'Noto Color Emoji' not found.\n",
      "findfont: Font family 'Noto Color Emoji' not found.\n",
      "findfont: Font family 'Noto Color Emoji' not found.\n",
      "findfont: Font family 'Noto Color Emoji' not found.\n",
      "findfont: Font family 'Noto Color Emoji' not found.\n",
      "findfont: Font family 'Noto Color Emoji' not found.\n",
      "findfont: Font family 'Noto Color Emoji' not found.\n",
      "findfont: Font family 'Noto Color Emoji' not found.\n",
      "findfont: Font family 'Noto Color Emoji' not found.\n",
      "findfont: Font family 'Noto Color Emoji' not found.\n",
      "findfont: Font family 'Noto Color Emoji' not found.\n",
      "findfont: Font family 'Noto Color Emoji' not found.\n",
      "findfont: Font family 'Noto Color Emoji' not found.\n",
      "findfont: Font family 'Noto Color Emoji' not found.\n",
      "findfont: Font family 'Noto Color Emoji' not found.\n",
      "findfont: Font family 'Noto Color Emoji' not found.\n",
      "findfont: Font family 'Noto Color Emoji' not found.\n",
      "findfont: Font family 'Noto Color Emoji' not found.\n",
      "findfont: Font family 'Noto Color Emoji' not found.\n",
      "findfont: Font family 'Noto Color Emoji' not found.\n",
      "findfont: Font family 'Noto Color Emoji' not found.\n",
      "findfont: Font family 'Noto Color Emoji' not found.\n",
      "findfont: Font family 'Noto Color Emoji' not found.\n"
     ]
    },
    {
     "data": {
      "image/png": "[encoded data removed]",
      "text/plain": [
       "<Figure size 640x480 with 1 Axes>"
      ]
     },
     "metadata": {},
     "output_type": "display_data"
    }
   ],
   "source": [
    "box={'facecolor':'.75','edgecolor':'k','boxstyle':'round','alpha':0.5}\n",
    "plt.text(0, 1, \"Happy New Year\", bbox=box)"
   ]
  },
  {
   "cell_type": "code",
   "execution_count": 24,
   "metadata": {},
   "outputs": [
    {
     "data": {
      "text/plain": [
       "Text(0.5, 0.6, 'Happy New Year')"
      ]
     },
     "execution_count": 24,
     "metadata": {},
     "output_type": "execute_result"
    },
    {
     "name": "stderr",
     "output_type": "stream",
     "text": [
      "findfont: Font family 'Noto Color Emoji' not found.\n",
      "findfont: Font family 'Noto Color Emoji' not found.\n",
      "findfont: Font family 'Noto Color Emoji' not found.\n",
      "findfont: Font family 'Noto Color Emoji' not found.\n",
      "findfont: Font family 'Noto Color Emoji' not found.\n",
      "findfont: Font family 'Noto Color Emoji' not found.\n",
      "findfont: Font family 'Noto Color Emoji' not found.\n",
      "findfont: Font family 'Noto Color Emoji' not found.\n",
      "findfont: Font family 'Noto Color Emoji' not found.\n",
      "findfont: Font family 'Noto Color Emoji' not found.\n",
      "findfont: Font family 'Noto Color Emoji' not found.\n",
      "findfont: Font family 'Noto Color Emoji' not found.\n",
      "findfont: Font family 'Noto Color Emoji' not found.\n"
     ]
    },
    {
     "name": "stderr",
     "output_type": "stream",
     "text": [
      "findfont: Font family 'Noto Color Emoji' not found.\n",
      "findfont: Font family 'Noto Color Emoji' not found.\n",
      "findfont: Font family 'Noto Color Emoji' not found.\n",
      "findfont: Font family 'Noto Color Emoji' not found.\n",
      "findfont: Font family 'Noto Color Emoji' not found.\n",
      "findfont: Font family 'Noto Color Emoji' not found.\n",
      "findfont: Font family 'Noto Color Emoji' not found.\n",
      "findfont: Font family 'Noto Color Emoji' not found.\n",
      "findfont: Font family 'Noto Color Emoji' not found.\n",
      "findfont: Font family 'Noto Color Emoji' not found.\n",
      "findfont: Font family 'Noto Color Emoji' not found.\n",
      "findfont: Font family 'Noto Color Emoji' not found.\n",
      "findfont: Font family 'Noto Color Emoji' not found.\n",
      "findfont: Font family 'Noto Color Emoji' not found.\n",
      "findfont: Font family 'Noto Color Emoji' not found.\n",
      "findfont: Font family 'Noto Color Emoji' not found.\n",
      "findfont: Font family 'Noto Color Emoji' not found.\n",
      "findfont: Font family 'Noto Color Emoji' not found.\n",
      "findfont: Font family 'Noto Color Emoji' not found.\n",
      "findfont: Font family 'Noto Color Emoji' not found.\n",
      "findfont: Font family 'Noto Color Emoji' not found.\n",
      "findfont: Font family 'Noto Color Emoji' not found.\n",
      "findfont: Font family 'Noto Color Emoji' not found.\n",
      "findfont: Font family 'Noto Color Emoji' not found.\n",
      "findfont: Font family 'Noto Color Emoji' not found.\n",
      "findfont: Font family 'Noto Color Emoji' not found.\n",
      "findfont: Font family 'Noto Color Emoji' not found.\n",
      "findfont: Font family 'Noto Color Emoji' not found.\n",
      "findfont: Font family 'Noto Color Emoji' not found.\n"
     ]
    },
    {
     "data": {
      "image/png": "[encoded data removed]",
      "text/plain": [
       "<Figure size 640x480 with 1 Axes>"
      ]
     },
     "metadata": {},
     "output_type": "display_data"
    }
   ],
   "source": [
    "plt.annotate('Happy New Year', xy=(0.5, 0.5), xytext=(0.5, 0.6),)"
   ]
  },
  {
   "cell_type": "code",
   "execution_count": null,
   "metadata": {},
   "outputs": [],
   "source": []
  }
 ],
 "metadata": {
  "kernelspec": {
   "display_name": "Python 3 (ipykernel)",
   "language": "python",
   "name": "python3"
  },
  "language_info": {
   "codemirror_mode": {
    "name": "ipython",
    "version": 3
   },
   "file_extension": ".py",
   "mimetype": "text/x-python",
   "name": "python",
   "nbconvert_exporter": "python",
   "pygments_lexer": "ipython3",
   "version": "3.8.18"
  }
 },
 "nbformat": 4,
 "nbformat_minor": 4
}
