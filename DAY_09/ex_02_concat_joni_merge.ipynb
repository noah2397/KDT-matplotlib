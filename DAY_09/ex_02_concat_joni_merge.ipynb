{
 "cells": [
  {
   "cell_type": "code",
   "execution_count": 48,
   "metadata": {},
   "outputs": [],
   "source": [
    "# 각 컬럼별로 unique()해서 고윳값을 뽑아내서 결측치를 제거해야 한다\n",
    "# 그냥 평균값을 넣으면 곤란하다\n",
    "# Series에 Object데이터 타입이 있어야 str속성을 사용할 수 있다"
   ]
  },
  {
   "cell_type": "markdown",
   "metadata": {},
   "source": [
    "## [ 접근자 Accessor ]  \n",
    "- Series/DataFrame의 데이터가 날짜시간(datatime), 문자열(object), 범주형(Category)등의 경우 데이터타입과 관련된 전용의 함수들을 사용할 수 있도록 해주는 속성  \n",
    "- Series.str.문자열처리관련함수명()  \n",
    "- Series.dt.날짜시간처리관련속성명  "
   ]
  },
  {
   "cell_type": "code",
   "execution_count": 49,
   "metadata": {},
   "outputs": [],
   "source": [
    "import pandas as pd"
   ]
  },
  {
   "cell_type": "code",
   "execution_count": 50,
   "metadata": {},
   "outputs": [],
   "source": [
    "datas={'name':[\"홍 길동\",\"이 나영\",\"마 징가\",\"배 토벤\"],\n",
    "        'age':[10,21,73,89],\n",
    "        'reg_date':[\"2010/01/23\",\"2020/11/8\",\"1995/5/4\",\"1987/12/24\"]}\n",
    "datas2=[['name',\"홍 길동\",\"이 나영\",\"마 징가\",\"배 토벤\"],\n",
    "        ['age',10,21,73,89],\n",
    "        ['reg_date',\"2010/01/23\",\"2020/11/8\",\"1995/5/4\",\"1987/12/24\"]]\n",
    "# 리스트와 튜플을 가지고 DF를 만들때와\n",
    "# 딕셔너리를 가지고 DF를 만들때의 차이점\n",
    "# -> 딕셔너리는 키값이 열로 들어가서 세로로 만들어지고, 리스트는 한 줄이 한 행이 되어버린다\n",
    "# -> 즉 딕셔너리는 세로로 들어감, 리스트는 가로로 들어감"
   ]
  },
  {
   "cell_type": "code",
   "execution_count": 51,
   "metadata": {},
   "outputs": [
    {
     "data": {
      "text/html": [
       "<div>\n",
       "<style scoped>\n",
       "    .dataframe tbody tr th:only-of-type {\n",
       "        vertical-align: middle;\n",
       "    }\n",
       "\n",
       "    .dataframe tbody tr th {\n",
       "        vertical-align: top;\n",
       "    }\n",
       "\n",
       "    .dataframe thead th {\n",
       "        text-align: right;\n",
       "    }\n",
       "</style>\n",
       "<table border=\"1\" class=\"dataframe\">\n",
       "  <thead>\n",
       "    <tr style=\"text-align: right;\">\n",
       "      <th></th>\n",
       "      <th>name</th>\n",
       "      <th>age</th>\n",
       "      <th>reg_date</th>\n",
       "    </tr>\n",
       "  </thead>\n",
       "  <tbody>\n",
       "    <tr>\n",
       "      <th>0</th>\n",
       "      <td>홍 길동</td>\n",
       "      <td>10</td>\n",
       "      <td>2010/01/23</td>\n",
       "    </tr>\n",
       "    <tr>\n",
       "      <th>1</th>\n",
       "      <td>이 나영</td>\n",
       "      <td>21</td>\n",
       "      <td>2020/11/8</td>\n",
       "    </tr>\n",
       "    <tr>\n",
       "      <th>2</th>\n",
       "      <td>마 징가</td>\n",
       "      <td>73</td>\n",
       "      <td>1995/5/4</td>\n",
       "    </tr>\n",
       "    <tr>\n",
       "      <th>3</th>\n",
       "      <td>배 토벤</td>\n",
       "      <td>89</td>\n",
       "      <td>1987/12/24</td>\n",
       "    </tr>\n",
       "  </tbody>\n",
       "</table>\n",
       "</div>"
      ],
      "text/plain": [
       "   name  age    reg_date\n",
       "0  홍 길동   10  2010/01/23\n",
       "1  이 나영   21   2020/11/8\n",
       "2  마 징가   73    1995/5/4\n",
       "3  배 토벤   89  1987/12/24"
      ]
     },
     "execution_count": 51,
     "metadata": {},
     "output_type": "execute_result"
    }
   ],
   "source": [
    "# Dict => DataFrame\n",
    "df1=pd.DataFrame(datas)\n",
    "df1"
   ]
  },
  {
   "cell_type": "code",
   "execution_count": 52,
   "metadata": {},
   "outputs": [
    {
     "data": {
      "text/html": [
       "<div>\n",
       "<style scoped>\n",
       "    .dataframe tbody tr th:only-of-type {\n",
       "        vertical-align: middle;\n",
       "    }\n",
       "\n",
       "    .dataframe tbody tr th {\n",
       "        vertical-align: top;\n",
       "    }\n",
       "\n",
       "    .dataframe thead th {\n",
       "        text-align: right;\n",
       "    }\n",
       "</style>\n",
       "<table border=\"1\" class=\"dataframe\">\n",
       "  <thead>\n",
       "    <tr style=\"text-align: right;\">\n",
       "      <th></th>\n",
       "      <th>0</th>\n",
       "      <th>1</th>\n",
       "      <th>2</th>\n",
       "      <th>3</th>\n",
       "      <th>4</th>\n",
       "    </tr>\n",
       "  </thead>\n",
       "  <tbody>\n",
       "    <tr>\n",
       "      <th>0</th>\n",
       "      <td>name</td>\n",
       "      <td>홍 길동</td>\n",
       "      <td>이 나영</td>\n",
       "      <td>마 징가</td>\n",
       "      <td>배 토벤</td>\n",
       "    </tr>\n",
       "    <tr>\n",
       "      <th>1</th>\n",
       "      <td>age</td>\n",
       "      <td>10</td>\n",
       "      <td>21</td>\n",
       "      <td>73</td>\n",
       "      <td>89</td>\n",
       "    </tr>\n",
       "    <tr>\n",
       "      <th>2</th>\n",
       "      <td>reg_date</td>\n",
       "      <td>2010/01/23</td>\n",
       "      <td>2020/11/8</td>\n",
       "      <td>1995/5/4</td>\n",
       "      <td>1987/12/24</td>\n",
       "    </tr>\n",
       "  </tbody>\n",
       "</table>\n",
       "</div>"
      ],
      "text/plain": [
       "          0           1          2         3           4\n",
       "0      name        홍 길동       이 나영      마 징가        배 토벤\n",
       "1       age          10         21        73          89\n",
       "2  reg_date  2010/01/23  2020/11/8  1995/5/4  1987/12/24"
      ]
     },
     "execution_count": 52,
     "metadata": {},
     "output_type": "execute_result"
    }
   ],
   "source": [
    "# List => DataFrame\n",
    "df2=pd.DataFrame(datas2)\n",
    "df2"
   ]
  },
  {
   "cell_type": "code",
   "execution_count": 53,
   "metadata": {},
   "outputs": [
    {
     "name": "stdout",
     "output_type": "stream",
     "text": [
      "<class 'pandas.core.frame.DataFrame'>\n",
      "RangeIndex: 4 entries, 0 to 3\n",
      "Data columns (total 3 columns):\n",
      " #   Column    Non-Null Count  Dtype \n",
      "---  ------    --------------  ----- \n",
      " 0   name      4 non-null      object\n",
      " 1   age       4 non-null      int64 \n",
      " 2   reg_date  4 non-null      object\n",
      "dtypes: int64(1), object(2)\n",
      "memory usage: 224.0+ bytes\n"
     ]
    }
   ],
   "source": [
    "# 데이터의 전체 기본 정보 => info()\n",
    "df1.info()"
   ]
  },
  {
   "cell_type": "code",
   "execution_count": 54,
   "metadata": {},
   "outputs": [],
   "source": [
    "#최근 컴퓨터는 대부분 64비트이기 때문에 unit8 64비트로 작업\n",
    "df1[\"age\"]=df1[\"age\"].astype(\"uint8\")\n",
    "df1[\"reg_date\"]=df1[\"reg_date\"].astype(\"datetime64[s]\")"
   ]
  },
  {
   "cell_type": "code",
   "execution_count": 55,
   "metadata": {},
   "outputs": [
    {
     "name": "stdout",
     "output_type": "stream",
     "text": [
      "['홍', '이', '마', '배'] ['길동', '나영', '징가', '토벤']\n"
     ]
    },
    {
     "data": {
      "text/html": [
       "<div>\n",
       "<style scoped>\n",
       "    .dataframe tbody tr th:only-of-type {\n",
       "        vertical-align: middle;\n",
       "    }\n",
       "\n",
       "    .dataframe tbody tr th {\n",
       "        vertical-align: top;\n",
       "    }\n",
       "\n",
       "    .dataframe thead th {\n",
       "        text-align: right;\n",
       "    }\n",
       "</style>\n",
       "<table border=\"1\" class=\"dataframe\">\n",
       "  <thead>\n",
       "    <tr style=\"text-align: right;\">\n",
       "      <th></th>\n",
       "      <th>name</th>\n",
       "      <th>age</th>\n",
       "      <th>reg_date</th>\n",
       "      <th>first_name</th>\n",
       "      <th>last_name</th>\n",
       "    </tr>\n",
       "  </thead>\n",
       "  <tbody>\n",
       "    <tr>\n",
       "      <th>0</th>\n",
       "      <td>홍 길동</td>\n",
       "      <td>10</td>\n",
       "      <td>2010-01-23</td>\n",
       "      <td>홍</td>\n",
       "      <td>길동</td>\n",
       "    </tr>\n",
       "    <tr>\n",
       "      <th>1</th>\n",
       "      <td>이 나영</td>\n",
       "      <td>21</td>\n",
       "      <td>2020-11-08</td>\n",
       "      <td>이</td>\n",
       "      <td>나영</td>\n",
       "    </tr>\n",
       "    <tr>\n",
       "      <th>2</th>\n",
       "      <td>마 징가</td>\n",
       "      <td>73</td>\n",
       "      <td>1995-05-04</td>\n",
       "      <td>마</td>\n",
       "      <td>징가</td>\n",
       "    </tr>\n",
       "    <tr>\n",
       "      <th>3</th>\n",
       "      <td>배 토벤</td>\n",
       "      <td>89</td>\n",
       "      <td>1987-12-24</td>\n",
       "      <td>배</td>\n",
       "      <td>토벤</td>\n",
       "    </tr>\n",
       "  </tbody>\n",
       "</table>\n",
       "</div>"
      ],
      "text/plain": [
       "   name  age   reg_date first_name last_name\n",
       "0  홍 길동   10 2010-01-23          홍        길동\n",
       "1  이 나영   21 2020-11-08          이        나영\n",
       "2  마 징가   73 1995-05-04          마        징가\n",
       "3  배 토벤   89 1987-12-24          배        토벤"
      ]
     },
     "execution_count": 55,
     "metadata": {},
     "output_type": "execute_result"
    }
   ],
   "source": [
    "# \"이 나영\"만 빼기 => 성과 이름으로 분리\n",
    "first_name, last_name=[],[]\n",
    "for idx in range(df1[\"name\"].shape[0]) :\n",
    "    first_name.append(df1[\"name\"][idx].split(\" \")[0])\n",
    "    last_name.append(df1[\"name\"][idx].split(\" \")[1])\n",
    "    \n",
    "print(first_name, last_name)\n",
    "df1[\"first_name\"]=first_name\n",
    "df1[\"last_name\"]=last_name\n",
    "df1\n"
   ]
  },
  {
   "cell_type": "code",
   "execution_count": 56,
   "metadata": {},
   "outputs": [],
   "source": [
    "#split을 사용한 \n",
    "parse_name=df1[\"name\"].str.split(expand=True)"
   ]
  },
  {
   "cell_type": "code",
   "execution_count": 57,
   "metadata": {},
   "outputs": [
    {
     "data": {
      "text/html": [
       "<div>\n",
       "<style scoped>\n",
       "    .dataframe tbody tr th:only-of-type {\n",
       "        vertical-align: middle;\n",
       "    }\n",
       "\n",
       "    .dataframe tbody tr th {\n",
       "        vertical-align: top;\n",
       "    }\n",
       "\n",
       "    .dataframe thead th {\n",
       "        text-align: right;\n",
       "    }\n",
       "</style>\n",
       "<table border=\"1\" class=\"dataframe\">\n",
       "  <thead>\n",
       "    <tr style=\"text-align: right;\">\n",
       "      <th></th>\n",
       "      <th>name</th>\n",
       "      <th>age</th>\n",
       "      <th>reg_date</th>\n",
       "      <th>first_name</th>\n",
       "      <th>last_name</th>\n",
       "      <th>first_name</th>\n",
       "      <th>last_name</th>\n",
       "    </tr>\n",
       "  </thead>\n",
       "  <tbody>\n",
       "    <tr>\n",
       "      <th>0</th>\n",
       "      <td>홍 길동</td>\n",
       "      <td>10</td>\n",
       "      <td>2010-01-23</td>\n",
       "      <td>홍</td>\n",
       "      <td>길동</td>\n",
       "      <td>홍</td>\n",
       "      <td>길동</td>\n",
       "    </tr>\n",
       "    <tr>\n",
       "      <th>1</th>\n",
       "      <td>이 나영</td>\n",
       "      <td>21</td>\n",
       "      <td>2020-11-08</td>\n",
       "      <td>이</td>\n",
       "      <td>나영</td>\n",
       "      <td>이</td>\n",
       "      <td>나영</td>\n",
       "    </tr>\n",
       "    <tr>\n",
       "      <th>2</th>\n",
       "      <td>마 징가</td>\n",
       "      <td>73</td>\n",
       "      <td>1995-05-04</td>\n",
       "      <td>마</td>\n",
       "      <td>징가</td>\n",
       "      <td>마</td>\n",
       "      <td>징가</td>\n",
       "    </tr>\n",
       "    <tr>\n",
       "      <th>3</th>\n",
       "      <td>배 토벤</td>\n",
       "      <td>89</td>\n",
       "      <td>1987-12-24</td>\n",
       "      <td>배</td>\n",
       "      <td>토벤</td>\n",
       "      <td>배</td>\n",
       "      <td>토벤</td>\n",
       "    </tr>\n",
       "  </tbody>\n",
       "</table>\n",
       "</div>"
      ],
      "text/plain": [
       "   name  age   reg_date first_name last_name first_name last_name\n",
       "0  홍 길동   10 2010-01-23          홍        길동          홍        길동\n",
       "1  이 나영   21 2020-11-08          이        나영          이        나영\n",
       "2  마 징가   73 1995-05-04          마        징가          마        징가\n",
       "3  배 토벤   89 1987-12-24          배        토벤          배        토벤"
      ]
     },
     "execution_count": 57,
     "metadata": {},
     "output_type": "execute_result"
    }
   ],
   "source": [
    "df1=df1.merge(parse_name,left_index=True,right_index=True)\n",
    "df1.rename(columns={0:\"first_name\",1:\"last_name\"},inplace=True)\n",
    "df1"
   ]
  },
  {
   "cell_type": "code",
   "execution_count": 58,
   "metadata": {},
   "outputs": [
    {
     "data": {
      "text/html": [
       "<div>\n",
       "<style scoped>\n",
       "    .dataframe tbody tr th:only-of-type {\n",
       "        vertical-align: middle;\n",
       "    }\n",
       "\n",
       "    .dataframe tbody tr th {\n",
       "        vertical-align: top;\n",
       "    }\n",
       "\n",
       "    .dataframe thead th {\n",
       "        text-align: right;\n",
       "    }\n",
       "</style>\n",
       "<table border=\"1\" class=\"dataframe\">\n",
       "  <thead>\n",
       "    <tr style=\"text-align: right;\">\n",
       "      <th></th>\n",
       "      <th>name</th>\n",
       "      <th>age</th>\n",
       "      <th>reg_date</th>\n",
       "      <th>first_name</th>\n",
       "      <th>last_name</th>\n",
       "      <th>first_name</th>\n",
       "      <th>last_name</th>\n",
       "      <th>0</th>\n",
       "      <th>1</th>\n",
       "    </tr>\n",
       "  </thead>\n",
       "  <tbody>\n",
       "    <tr>\n",
       "      <th>0</th>\n",
       "      <td>홍 길동</td>\n",
       "      <td>10</td>\n",
       "      <td>2010-01-23</td>\n",
       "      <td>홍</td>\n",
       "      <td>길동</td>\n",
       "      <td>홍</td>\n",
       "      <td>길동</td>\n",
       "      <td>홍</td>\n",
       "      <td>길동</td>\n",
       "    </tr>\n",
       "    <tr>\n",
       "      <th>1</th>\n",
       "      <td>이 나영</td>\n",
       "      <td>21</td>\n",
       "      <td>2020-11-08</td>\n",
       "      <td>이</td>\n",
       "      <td>나영</td>\n",
       "      <td>이</td>\n",
       "      <td>나영</td>\n",
       "      <td>이</td>\n",
       "      <td>나영</td>\n",
       "    </tr>\n",
       "    <tr>\n",
       "      <th>2</th>\n",
       "      <td>마 징가</td>\n",
       "      <td>73</td>\n",
       "      <td>1995-05-04</td>\n",
       "      <td>마</td>\n",
       "      <td>징가</td>\n",
       "      <td>마</td>\n",
       "      <td>징가</td>\n",
       "      <td>마</td>\n",
       "      <td>징가</td>\n",
       "    </tr>\n",
       "    <tr>\n",
       "      <th>3</th>\n",
       "      <td>배 토벤</td>\n",
       "      <td>89</td>\n",
       "      <td>1987-12-24</td>\n",
       "      <td>배</td>\n",
       "      <td>토벤</td>\n",
       "      <td>배</td>\n",
       "      <td>토벤</td>\n",
       "      <td>배</td>\n",
       "      <td>토벤</td>\n",
       "    </tr>\n",
       "  </tbody>\n",
       "</table>\n",
       "</div>"
      ],
      "text/plain": [
       "   name  age   reg_date first_name last_name first_name last_name  0   1\n",
       "0  홍 길동   10 2010-01-23          홍        길동          홍        길동  홍  길동\n",
       "1  이 나영   21 2020-11-08          이        나영          이        나영  이  나영\n",
       "2  마 징가   73 1995-05-04          마        징가          마        징가  마  징가\n",
       "3  배 토벤   89 1987-12-24          배        토벤          배        토벤  배  토벤"
      ]
     },
     "execution_count": 58,
     "metadata": {},
     "output_type": "execute_result"
    }
   ],
   "source": [
    "pd.concat([df1,parse_name],axis=1) # axis로 방향지정을 해야한다"
   ]
  },
  {
   "cell_type": "code",
   "execution_count": 61,
   "metadata": {},
   "outputs": [
    {
     "data": {
      "text/html": [
       "<div>\n",
       "<style scoped>\n",
       "    .dataframe tbody tr th:only-of-type {\n",
       "        vertical-align: middle;\n",
       "    }\n",
       "\n",
       "    .dataframe tbody tr th {\n",
       "        vertical-align: top;\n",
       "    }\n",
       "\n",
       "    .dataframe thead th {\n",
       "        text-align: right;\n",
       "    }\n",
       "</style>\n",
       "<table border=\"1\" class=\"dataframe\">\n",
       "  <thead>\n",
       "    <tr style=\"text-align: right;\">\n",
       "      <th></th>\n",
       "      <th>0</th>\n",
       "      <th>1</th>\n",
       "      <th>2</th>\n",
       "      <th>3</th>\n",
       "      <th>4</th>\n",
       "    </tr>\n",
       "  </thead>\n",
       "  <tbody>\n",
       "    <tr>\n",
       "      <th>0</th>\n",
       "      <td>name</td>\n",
       "      <td>홍 길동</td>\n",
       "      <td>이 나영</td>\n",
       "      <td>마 징가</td>\n",
       "      <td>배 토벤</td>\n",
       "    </tr>\n",
       "    <tr>\n",
       "      <th>1</th>\n",
       "      <td>age</td>\n",
       "      <td>10</td>\n",
       "      <td>21</td>\n",
       "      <td>73</td>\n",
       "      <td>89</td>\n",
       "    </tr>\n",
       "    <tr>\n",
       "      <th>2</th>\n",
       "      <td>reg_date</td>\n",
       "      <td>2010/01/23</td>\n",
       "      <td>2020/11/8</td>\n",
       "      <td>1995/5/4</td>\n",
       "      <td>1987/12/24</td>\n",
       "    </tr>\n",
       "    <tr>\n",
       "      <th>0</th>\n",
       "      <td>홍</td>\n",
       "      <td>길동</td>\n",
       "      <td>NaN</td>\n",
       "      <td>NaN</td>\n",
       "      <td>NaN</td>\n",
       "    </tr>\n",
       "    <tr>\n",
       "      <th>1</th>\n",
       "      <td>이</td>\n",
       "      <td>나영</td>\n",
       "      <td>NaN</td>\n",
       "      <td>NaN</td>\n",
       "      <td>NaN</td>\n",
       "    </tr>\n",
       "    <tr>\n",
       "      <th>2</th>\n",
       "      <td>마</td>\n",
       "      <td>징가</td>\n",
       "      <td>NaN</td>\n",
       "      <td>NaN</td>\n",
       "      <td>NaN</td>\n",
       "    </tr>\n",
       "    <tr>\n",
       "      <th>3</th>\n",
       "      <td>배</td>\n",
       "      <td>토벤</td>\n",
       "      <td>NaN</td>\n",
       "      <td>NaN</td>\n",
       "      <td>NaN</td>\n",
       "    </tr>\n",
       "  </tbody>\n",
       "</table>\n",
       "</div>"
      ],
      "text/plain": [
       "          0           1          2         3           4\n",
       "0      name        홍 길동       이 나영      마 징가        배 토벤\n",
       "1       age          10         21        73          89\n",
       "2  reg_date  2010/01/23  2020/11/8  1995/5/4  1987/12/24\n",
       "0         홍          길동        NaN       NaN         NaN\n",
       "1         이          나영        NaN       NaN         NaN\n",
       "2         마          징가        NaN       NaN         NaN\n",
       "3         배          토벤        NaN       NaN         NaN"
      ]
     },
     "execution_count": 61,
     "metadata": {},
     "output_type": "execute_result"
    }
   ],
   "source": [
    "pd.concat([df2,parse_name]) # NaT : not a timestamp라는 뜻이다"
   ]
  },
  {
   "cell_type": "code",
   "execution_count": 63,
   "metadata": {},
   "outputs": [
    {
     "data": {
      "text/html": [
       "<div>\n",
       "<style scoped>\n",
       "    .dataframe tbody tr th:only-of-type {\n",
       "        vertical-align: middle;\n",
       "    }\n",
       "\n",
       "    .dataframe tbody tr th {\n",
       "        vertical-align: top;\n",
       "    }\n",
       "\n",
       "    .dataframe thead th {\n",
       "        text-align: right;\n",
       "    }\n",
       "</style>\n",
       "<table border=\"1\" class=\"dataframe\">\n",
       "  <thead>\n",
       "    <tr style=\"text-align: right;\">\n",
       "      <th></th>\n",
       "      <th>name</th>\n",
       "      <th>age</th>\n",
       "      <th>reg_date</th>\n",
       "    </tr>\n",
       "  </thead>\n",
       "  <tbody>\n",
       "    <tr>\n",
       "      <th>0</th>\n",
       "      <td>홍 길동</td>\n",
       "      <td>10</td>\n",
       "      <td>2010/01/23</td>\n",
       "    </tr>\n",
       "    <tr>\n",
       "      <th>1</th>\n",
       "      <td>이 나영</td>\n",
       "      <td>21</td>\n",
       "      <td>2020/11/8</td>\n",
       "    </tr>\n",
       "    <tr>\n",
       "      <th>2</th>\n",
       "      <td>마 징가</td>\n",
       "      <td>73</td>\n",
       "      <td>1995/5/4</td>\n",
       "    </tr>\n",
       "    <tr>\n",
       "      <th>3</th>\n",
       "      <td>배 토벤</td>\n",
       "      <td>89</td>\n",
       "      <td>1987/12/24</td>\n",
       "    </tr>\n",
       "  </tbody>\n",
       "</table>\n",
       "</div>"
      ],
      "text/plain": [
       "   name  age    reg_date\n",
       "0  홍 길동   10  2010/01/23\n",
       "1  이 나영   21   2020/11/8\n",
       "2  마 징가   73    1995/5/4\n",
       "3  배 토벤   89  1987/12/24"
      ]
     },
     "execution_count": 63,
     "metadata": {},
     "output_type": "execute_result"
    }
   ],
   "source": [
    "df1=pd.DataFrame(datas)\n",
    "df1"
   ]
  },
  {
   "cell_type": "code",
   "execution_count": 64,
   "metadata": {},
   "outputs": [],
   "source": [
    "# ignore_index = True를 주어 연속된 인덱스로 추가할 수 있게 해준다"
   ]
  },
  {
   "cell_type": "code",
   "execution_count": 69,
   "metadata": {},
   "outputs": [],
   "source": [
    "df1[\"reg_date\"]=df1[\"reg_date\"].astype(\"datetime64[s]\")"
   ]
  },
  {
   "cell_type": "code",
   "execution_count": 71,
   "metadata": {},
   "outputs": [
    {
     "data": {
      "text/plain": [
       "0    2010\n",
       "1    2020\n",
       "2    1995\n",
       "3    1987\n",
       "Name: reg_date, dtype: int32"
      ]
     },
     "execution_count": 71,
     "metadata": {},
     "output_type": "execute_result"
    }
   ],
   "source": [
    "yearSR = df1[\"reg_date\"].dt.year"
   ]
  },
  {
   "cell_type": "code",
   "execution_count": 73,
   "metadata": {},
   "outputs": [],
   "source": [
    "monthSR = df1[\"reg_date\"].dt.month"
   ]
  },
  {
   "cell_type": "code",
   "execution_count": 74,
   "metadata": {},
   "outputs": [],
   "source": [
    "daySR = df1[\"reg_date\"].dt.day"
   ]
  },
  {
   "cell_type": "code",
   "execution_count": 77,
   "metadata": {},
   "outputs": [
    {
     "data": {
      "text/html": [
       "<div>\n",
       "<style scoped>\n",
       "    .dataframe tbody tr th:only-of-type {\n",
       "        vertical-align: middle;\n",
       "    }\n",
       "\n",
       "    .dataframe tbody tr th {\n",
       "        vertical-align: top;\n",
       "    }\n",
       "\n",
       "    .dataframe thead th {\n",
       "        text-align: right;\n",
       "    }\n",
       "</style>\n",
       "<table border=\"1\" class=\"dataframe\">\n",
       "  <thead>\n",
       "    <tr style=\"text-align: right;\">\n",
       "      <th></th>\n",
       "      <th>name</th>\n",
       "      <th>age</th>\n",
       "      <th>reg_date</th>\n",
       "      <th>reg_date</th>\n",
       "      <th>reg_date</th>\n",
       "      <th>reg_date</th>\n",
       "    </tr>\n",
       "  </thead>\n",
       "  <tbody>\n",
       "    <tr>\n",
       "      <th>0</th>\n",
       "      <td>홍 길동</td>\n",
       "      <td>10</td>\n",
       "      <td>2010-01-23</td>\n",
       "      <td>2010</td>\n",
       "      <td>1</td>\n",
       "      <td>23</td>\n",
       "    </tr>\n",
       "    <tr>\n",
       "      <th>1</th>\n",
       "      <td>이 나영</td>\n",
       "      <td>21</td>\n",
       "      <td>2020-11-08</td>\n",
       "      <td>2020</td>\n",
       "      <td>11</td>\n",
       "      <td>8</td>\n",
       "    </tr>\n",
       "    <tr>\n",
       "      <th>2</th>\n",
       "      <td>마 징가</td>\n",
       "      <td>73</td>\n",
       "      <td>1995-05-04</td>\n",
       "      <td>1995</td>\n",
       "      <td>5</td>\n",
       "      <td>4</td>\n",
       "    </tr>\n",
       "    <tr>\n",
       "      <th>3</th>\n",
       "      <td>배 토벤</td>\n",
       "      <td>89</td>\n",
       "      <td>1987-12-24</td>\n",
       "      <td>1987</td>\n",
       "      <td>12</td>\n",
       "      <td>24</td>\n",
       "    </tr>\n",
       "  </tbody>\n",
       "</table>\n",
       "</div>"
      ],
      "text/plain": [
       "   name  age   reg_date  reg_date  reg_date  reg_date\n",
       "0  홍 길동   10 2010-01-23      2010         1        23\n",
       "1  이 나영   21 2020-11-08      2020        11         8\n",
       "2  마 징가   73 1995-05-04      1995         5         4\n",
       "3  배 토벤   89 1987-12-24      1987        12        24"
      ]
     },
     "execution_count": 77,
     "metadata": {},
     "output_type": "execute_result"
    }
   ],
   "source": [
    "pd.concat([df1, yearSR,monthSR,daySR],axis=1) # dt는 Series가 datetime일 때 "
   ]
  },
  {
   "cell_type": "code",
   "execution_count": 78,
   "metadata": {},
   "outputs": [],
   "source": [
    "# csv => 데이터와 데이터의 구분자\n",
    "df1.to_csv(\"df1.csv\",index=False)"
   ]
  },
  {
   "cell_type": "code",
   "execution_count": 79,
   "metadata": {},
   "outputs": [],
   "source": [
    "df1.to_csv(\"df1.csv\",index=False, header=False)"
   ]
  },
  {
   "cell_type": "code",
   "execution_count": 80,
   "metadata": {},
   "outputs": [
    {
     "data": {
      "text/html": [
       "<div>\n",
       "<style scoped>\n",
       "    .dataframe tbody tr th:only-of-type {\n",
       "        vertical-align: middle;\n",
       "    }\n",
       "\n",
       "    .dataframe tbody tr th {\n",
       "        vertical-align: top;\n",
       "    }\n",
       "\n",
       "    .dataframe thead th {\n",
       "        text-align: right;\n",
       "    }\n",
       "</style>\n",
       "<table border=\"1\" class=\"dataframe\">\n",
       "  <thead>\n",
       "    <tr style=\"text-align: right;\">\n",
       "      <th></th>\n",
       "      <th>0</th>\n",
       "      <th>1</th>\n",
       "      <th>2</th>\n",
       "    </tr>\n",
       "  </thead>\n",
       "  <tbody>\n",
       "    <tr>\n",
       "      <th>0</th>\n",
       "      <td>홍 길동</td>\n",
       "      <td>10</td>\n",
       "      <td>2010-01-23</td>\n",
       "    </tr>\n",
       "    <tr>\n",
       "      <th>1</th>\n",
       "      <td>이 나영</td>\n",
       "      <td>21</td>\n",
       "      <td>2020-11-08</td>\n",
       "    </tr>\n",
       "    <tr>\n",
       "      <th>2</th>\n",
       "      <td>마 징가</td>\n",
       "      <td>73</td>\n",
       "      <td>1995-05-04</td>\n",
       "    </tr>\n",
       "    <tr>\n",
       "      <th>3</th>\n",
       "      <td>배 토벤</td>\n",
       "      <td>89</td>\n",
       "      <td>1987-12-24</td>\n",
       "    </tr>\n",
       "  </tbody>\n",
       "</table>\n",
       "</div>"
      ],
      "text/plain": [
       "      0   1           2\n",
       "0  홍 길동  10  2010-01-23\n",
       "1  이 나영  21  2020-11-08\n",
       "2  마 징가  73  1995-05-04\n",
       "3  배 토벤  89  1987-12-24"
      ]
     },
     "execution_count": 80,
     "metadata": {},
     "output_type": "execute_result"
    }
   ],
   "source": [
    "pd.read_csv(\"df1.csv\", header=None)"
   ]
  },
  {
   "cell_type": "code",
   "execution_count": null,
   "metadata": {},
   "outputs": [],
   "source": []
  }
 ],
 "metadata": {
  "kernelspec": {
   "display_name": "My_38",
   "language": "python",
   "name": "python3"
  },
  "language_info": {
   "codemirror_mode": {
    "name": "ipython",
    "version": 3
   },
   "file_extension": ".py",
   "mimetype": "text/x-python",
   "name": "python",
   "nbconvert_exporter": "python",
   "pygments_lexer": "ipython3",
   "version": "3.8.18"
  }
 },
 "nbformat": 4,
 "nbformat_minor": 2
}
